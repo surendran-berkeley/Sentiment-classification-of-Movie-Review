{
 "cells": [
  {
   "cell_type": "markdown",
   "metadata": {},
   "source": [
    "#Sentiment Analysis of IMDB reviews using LSTM based Neural Net\n",
    "\n",
    "\n",
    "\n",
    "\n",
    "\n",
    "\n",
    "\n",
    "\n",
    "\n",
    "* *IMDB- Internet Movie Data-Base * \n",
    "* *LSTM - Long Short Term Memory *"
   ]
  },
  {
   "cell_type": "markdown",
   "metadata": {},
   "source": [
    "### Goal :\n",
    "\n",
    "\n",
    "\n",
    "Neural networks have shown huge leaps in achieving state of the art results in Prediction and Classification problem settings. They have shown exceptiona; performance in areas where the underlying features are not directly interpretable. This success is attributed to their ability to learn hierarchical representations, unlike traditional meth- ods that rely upon hand-engineered features [Farabet et al., 2013]. Over years the lowering costs of hardware, especially GPU's that can massively parallelize matrix operation tasks have led to renewed interests in neural nets. \n",
    "\n",
    "\n",
    "\n",
    "Though initial research was in a standard feedforward net, it soon became apparent that such feed forward nets with dense connections are incapable ot capturing the sequential nature or dependencies in data. Countless  learning tasks are sequential in nature including Time Series, Scene Parsing, Music and Speech generation and text prediction. \n",
    "\n",
    "\n",
    "\n",
    "Recurrent Neural nets have started emerging as a new class of neural nets that use a sinple trick of recurrence of the hidden state and sequential exposure to data as a way to capture the sequential dependencies in data. Long Short Term Memory is a type of activation fucntion that has let such RNN's to preserve memory over long sequences. \n",
    "\n",
    "\n",
    "\n",
    "In this project we will use LSTM based neural net to predict the sentiment of an IMDB review. We experiement with a standard LSTM with varying hyperparameters including cell size,  number of layers and dropout, we further extend this model to a birectional LSTM \n",
    "whereby you have one forward LSTM and one backward LSTM running in reverse time and with their features concatenated at the output layer, thus enabling informations from both past and future to come together. We hypothesise that LSTMs due to their ability to learn sequential dependencies  will be capable of capturing the nature and quirks of review such as sarcasm and reverse humour, which are otehrwise difficult to featureize. \n",
    "\n"
   ]
  },
  {
   "cell_type": "markdown",
   "metadata": {},
   "source": [
    "###Data and Setting:\n",
    "\n",
    "For this exercise we will be using the Stanford Large movie Dataset, which is essentially a collection of IMDB movie reviews and their coreesponding labels as to whether they are positive or negative in sentiment.\n",
    "\n",
    "\n",
    "We use Keras, which is a modular wrapper around Theano to build our model \n",
    "\n",
    "\n",
    "###Model;\n",
    "\n",
    "We will initally use a unidirectional Many to one LSTM model\n",
    "\n",
    "\n",
    "We will extend this model to have many to one bidirectional LSTM \n",
    "\n",
    "\n",
    "<img src =\"bidirectional-rnn.png\">\n",
    "\n"
   ]
  },
  {
   "cell_type": "markdown",
   "metadata": {},
   "source": [
    "\n",
    "###Results:\n",
    "\n",
    "The results though promising are not as good as one's that can be obtained through standard NLP techniques such as \n",
    "Topic modelling including TFIDF. The reasoning could be that the data presented is much less leading to overfitting (84.3 % in test vs 86 %)\n",
    "of the neural nets. We will be havng more experiments with more data."
   ]
  },
  {
   "cell_type": "code",
   "execution_count": 23,
   "metadata": {
    "collapsed": false
   },
   "outputs": [],
   "source": [
    "import numpy\n",
    "from keras.datasets import imdb\n",
    "from keras.models import Sequential\n",
    "from keras.layers import Dense, Dropout, Bidirectional\n",
    "from keras.layers import LSTM\n",
    "from keras.layers.embeddings import Embedding\n",
    "from keras.preprocessing import sequence\n",
    "# fix random seed for reproducibility\n",
    "numpy.random.seed(7)\n",
    "import matplotlib.pyplot as plt"
   ]
  },
  {
   "cell_type": "code",
   "execution_count": 6,
   "metadata": {
    "collapsed": false
   },
   "outputs": [],
   "source": [
    "# load the dataset but only keep the top n words, zero the rest\n",
    "top_words = 5000\n",
    "(X_train, y_train), (X_test, y_test) = imdb.load_data(nb_words=top_words)"
   ]
  },
  {
   "cell_type": "code",
   "execution_count": 7,
   "metadata": {
    "collapsed": true
   },
   "outputs": [],
   "source": [
    "# truncate and pad input sequences\n",
    "max_review_length = 500\n",
    "X_train = sequence.pad_sequences(X_train, maxlen=max_review_length)\n",
    "X_test = sequence.pad_sequences(X_test, maxlen=max_review_length)"
   ]
  },
  {
   "cell_type": "code",
   "execution_count": 11,
   "metadata": {
    "collapsed": false
   },
   "outputs": [],
   "source": [
    "\n",
    "\n",
    "\n",
    "\n",
    "\n",
    "def unidirectional_lstm (layers, cell_size, embedding, drop ):\n",
    "    if layers==1:\n",
    "        model = Sequential()\n",
    "        model.add(Embedding(top_words, embedding, input_length=max_review_length))\n",
    "        model.add(LSTM(cell_size))\n",
    "        model.add(Dropout(drop))\n",
    "        model.add(Dense(1, activation='sigmoid'))\n",
    "        model.compile(loss='binary_crossentropy', optimizer='adam', metrics=['accuracy'])\n",
    "        print(model.summary())\n",
    "        history=model.fit(X_train, y_train, verbose = 1,validation_data=(X_test, y_test), nb_epoch=3, batch_size=64)\n",
    "    else:\n",
    "        model = Sequential()\n",
    "        model.add(Embedding(top_words, embedding, input_length=max_review_length))\n",
    "        model.add(LSTM(cell_size, return_sequences=True))\n",
    "        model.add(Dropout(drop))\n",
    "        model.add(LSTM(cell_size, return_sequences=False))\n",
    "        model.add(Dropout(drop))\n",
    "        model.add(Dense(1, activation='sigmoid'))\n",
    "        model.compile(loss='binary_crossentropy', optimizer='adam', metrics=['accuracy'])\n",
    "        print(model.summary())\n",
    "        history=model.fit(X_train, y_train, verbose = 1,validation_data=(X_test, y_test), nb_epoch=3, batch_size=64)\n",
    "    return (history.history)\n",
    "\n"
   ]
  },
  {
   "cell_type": "code",
   "execution_count": 50,
   "metadata": {
    "collapsed": false,
    "scrolled": false
   },
   "outputs": [
    {
     "name": "stdout",
     "output_type": "stream",
     "text": [
      "____________________________________________________________________________________________________\n",
      "Layer (type)                     Output Shape          Param #     Connected to                     \n",
      "====================================================================================================\n",
      "embedding_34 (Embedding)         (None, 500, 64)       320000      embedding_input_34[0][0]         \n",
      "____________________________________________________________________________________________________\n",
      "lstm_56 (LSTM)                   (None, 64)            33024       embedding_34[0][0]               \n",
      "____________________________________________________________________________________________________\n",
      "dropout_55 (Dropout)             (None, 64)            0           lstm_56[0][0]                    \n",
      "____________________________________________________________________________________________________\n",
      "dense_33 (Dense)                 (None, 1)             65          dropout_55[0][0]                 \n",
      "====================================================================================================\n",
      "Total params: 353089\n",
      "____________________________________________________________________________________________________\n",
      "None\n",
      "Train on 25000 samples, validate on 25000 samples\n",
      "Epoch 1/3\n",
      "25000/25000 [==============================] - 104s - loss: 0.4686 - acc: 0.7870 - val_loss: 0.3348 - val_acc: 0.8659\n",
      "Epoch 2/3\n",
      "25000/25000 [==============================] - 108s - loss: 0.2779 - acc: 0.8901 - val_loss: 0.3157 - val_acc: 0.8673\n",
      "Epoch 3/3\n",
      "25000/25000 [==============================] - 109s - loss: 0.2205 - acc: 0.9157 - val_loss: 0.3064 - val_acc: 0.8662\n",
      "____________________________________________________________________________________________________\n",
      "Layer (type)                     Output Shape          Param #     Connected to                     \n",
      "====================================================================================================\n",
      "embedding_35 (Embedding)         (None, 500, 64)       320000      embedding_input_35[0][0]         \n",
      "____________________________________________________________________________________________________\n",
      "lstm_57 (LSTM)                   (None, 128)           98816       embedding_35[0][0]               \n",
      "____________________________________________________________________________________________________\n",
      "dropout_56 (Dropout)             (None, 128)           0           lstm_57[0][0]                    \n",
      "____________________________________________________________________________________________________\n",
      "dense_34 (Dense)                 (None, 1)             129         dropout_56[0][0]                 \n",
      "====================================================================================================\n",
      "Total params: 418945\n",
      "____________________________________________________________________________________________________\n",
      "None\n",
      "Train on 25000 samples, validate on 25000 samples\n",
      "Epoch 1/3\n",
      "25000/25000 [==============================] - 156s - loss: 0.4543 - acc: 0.7818 - val_loss: 0.3235 - val_acc: 0.8672\n",
      "Epoch 2/3\n",
      "25000/25000 [==============================] - 155s - loss: 0.3214 - acc: 0.8651 - val_loss: 0.3864 - val_acc: 0.8373\n",
      "Epoch 3/3\n",
      "25000/25000 [==============================] - 152s - loss: 0.2744 - acc: 0.8921 - val_loss: 0.3230 - val_acc: 0.8626\n",
      "____________________________________________________________________________________________________\n",
      "Layer (type)                     Output Shape          Param #     Connected to                     \n",
      "====================================================================================================\n",
      "embedding_36 (Embedding)         (None, 500, 64)       320000      embedding_input_36[0][0]         \n",
      "____________________________________________________________________________________________________\n",
      "lstm_58 (LSTM)                   (None, 500, 64)       33024       embedding_36[0][0]               \n",
      "____________________________________________________________________________________________________\n",
      "dropout_57 (Dropout)             (None, 500, 64)       0           lstm_58[0][0]                    \n",
      "____________________________________________________________________________________________________\n",
      "lstm_59 (LSTM)                   (None, 64)            33024       dropout_57[0][0]                 \n",
      "____________________________________________________________________________________________________\n",
      "dropout_58 (Dropout)             (None, 64)            0           lstm_59[0][0]                    \n",
      "____________________________________________________________________________________________________\n",
      "dense_35 (Dense)                 (None, 1)             65          dropout_58[0][0]                 \n",
      "====================================================================================================\n",
      "Total params: 386113\n",
      "____________________________________________________________________________________________________\n",
      "None\n",
      "Train on 25000 samples, validate on 25000 samples\n",
      "Epoch 1/3\n",
      "25000/25000 [==============================] - 221s - loss: 0.4196 - acc: 0.8068 - val_loss: 0.3603 - val_acc: 0.8506\n",
      "Epoch 2/3\n",
      "25000/25000 [==============================] - 213s - loss: 0.2761 - acc: 0.8912 - val_loss: 0.3311 - val_acc: 0.8596\n",
      "Epoch 3/3\n",
      "25000/25000 [==============================] - 212s - loss: 0.2251 - acc: 0.9141 - val_loss: 0.3014 - val_acc: 0.8735\n",
      "____________________________________________________________________________________________________\n",
      "Layer (type)                     Output Shape          Param #     Connected to                     \n",
      "====================================================================================================\n",
      "embedding_37 (Embedding)         (None, 500, 64)       320000      embedding_input_37[0][0]         \n",
      "____________________________________________________________________________________________________\n",
      "lstm_60 (LSTM)                   (None, 500, 128)      98816       embedding_37[0][0]               \n",
      "____________________________________________________________________________________________________\n",
      "dropout_59 (Dropout)             (None, 500, 128)      0           lstm_60[0][0]                    \n",
      "____________________________________________________________________________________________________\n",
      "lstm_61 (LSTM)                   (None, 128)           131584      dropout_59[0][0]                 \n",
      "____________________________________________________________________________________________________\n",
      "dropout_60 (Dropout)             (None, 128)           0           lstm_61[0][0]                    \n",
      "____________________________________________________________________________________________________\n",
      "dense_36 (Dense)                 (None, 1)             129         dropout_60[0][0]                 \n",
      "====================================================================================================\n",
      "Total params: 550529\n",
      "____________________________________________________________________________________________________\n",
      "None\n",
      "Train on 25000 samples, validate on 25000 samples\n",
      "Epoch 1/3\n",
      "25000/25000 [==============================] - 314s - loss: 0.4823 - acc: 0.7611 - val_loss: 0.3838 - val_acc: 0.8500\n",
      "Epoch 2/3\n",
      "25000/25000 [==============================] - 308s - loss: 0.2943 - acc: 0.8830 - val_loss: 0.3065 - val_acc: 0.8720\n",
      "Epoch 3/3\n",
      "25000/25000 [==============================] - 308s - loss: 0.2696 - acc: 0.8926 - val_loss: 0.3342 - val_acc: 0.8661\n"
     ]
    }
   ],
   "source": [
    "LSTM_size=[ 64,128] \n",
    "layers=[1,2]\n",
    "embedding_vec=[64] \n",
    "drop=[0.2] #0,0.1,\n",
    "acc_history_f={}\n",
    "model_hist_f=[]\n",
    "for layer in layers:\n",
    "    for cells in LSTM_size:\n",
    "        for embedd in embedding_vec:\n",
    "            for drops in drop:\n",
    "                model_hist_f.append([layer, cells, embedd, drops])\n",
    "                \n",
    "                acc_history_f[len(model_hist_f)-1]=unidirectional_lstm(layer, cells, embedd, drops)\n"
   ]
  },
  {
   "cell_type": "code",
   "execution_count": 51,
   "metadata": {
    "collapsed": false
   },
   "outputs": [
    {
     "data": {
      "text/plain": [
       "{0: {'acc': [0.78700000003814696, 0.89007999999999998, 0.9157200000190735],\n",
       "  'loss': [0.46857956207513807, 0.277887389793396, 0.22046311844348906],\n",
       "  'val_acc': [0.86592000000000002, 0.86731999998092646, 0.86624000000000001],\n",
       "  'val_loss': [0.3347693172264099, 0.31569287712097166, 0.30642190629959104]},\n",
       " 1: {'acc': [0.7818400000190735, 0.86507999998092655, 0.89212000001907343],\n",
       "  'loss': [0.45431251289367675, 0.32137985484123233, 0.27443340140342715],\n",
       "  'val_acc': [0.86716000001907345, 0.83728000003814695, 0.86260000001907344],\n",
       "  'val_loss': [0.32347978977680208, 0.38638455322265625, 0.32302049542427064]},\n",
       " 2: {'acc': [0.80676000000000003, 0.89119999998092647, 0.91411999998092652],\n",
       "  'loss': [0.41959651313781737, 0.27612089818954466, 0.22511565991401672],\n",
       "  'val_acc': [0.85063999996185302, 0.859640000038147, 0.87347999998092651],\n",
       "  'val_loss': [0.3602969309425354, 0.331145565700531, 0.30141286253929139]},\n",
       " 3: {'acc': [0.76107999996185305, 0.88299999996185308, 0.89263999999999999],\n",
       "  'loss': [0.48234033301353457, 0.29433240256309512, 0.26962635702133181],\n",
       "  'val_acc': [0.85004000003814695, 0.87204000003814697, 0.86611999998092648],\n",
       "  'val_loss': [0.38375003587722778, 0.30652141069412231, 0.33420840279579161]}}"
      ]
     },
     "execution_count": 51,
     "metadata": {},
     "output_type": "execute_result"
    }
   ],
   "source": [
    "import numpy as np\n",
    "a=acc_history_f\n",
    "a"
   ]
  },
  {
   "cell_type": "code",
   "execution_count": 56,
   "metadata": {
    "collapsed": false
   },
   "outputs": [
    {
     "data": {
      "image/png": "[encoded data removed]",
      "text/plain": [
       "<matplotlib.figure.Figure at 0x7fd65b404990>"
      ]
     },
     "metadata": {},
     "output_type": "display_data"
    }
   ],
   "source": [
    "%matplotlib inline\n",
    "for i in range(len(model_hist_f)):\n",
    "    plt.plot(acc_history_f[i][\"val_acc\"])\n",
    "plt.title('model accuracy')\n",
    "plt.ylabel('accuracy')\n",
    "plt.xlabel('epoch')\n",
    "plt.legend([\"Model 1\", \"Model 2\" , \"Model 3\", \"Model 4\"], loc='upper left')\n",
    "plt.show()"
   ]
  },
  {
   "cell_type": "code",
   "execution_count": null,
   "metadata": {
    "collapsed": true
   },
   "outputs": [],
   "source": [
    "\n",
    "# Bidirectional LSTM:\n"
   ]
  },
  {
   "cell_type": "code",
   "execution_count": 83,
   "metadata": {
    "collapsed": true
   },
   "outputs": [],
   "source": [
    "def bidirectional (cell_size, embedding, drop):\n",
    "    model_bi=Sequential()\n",
    "    model_bi.add(Embedding(top_words, embedding, input_length=max_review_length))\n",
    "    model_bi.add(Bidirectional(LSTM(cell_size)))\n",
    "    model_bi.add(Dropout(drop))\n",
    "    model_bi.add(Dense(1, activation='sigmoid'))\n",
    "    model_bi.compile(loss='binary_crossentropy', optimizer='adam', metrics=['accuracy'])\n",
    "    print(model_bi.summary())\n",
    "    history=model_bi.fit(X_train, y_train, verbose = 1,validation_data=(X_test, y_test), nb_epoch=3, batch_size=64)\n",
    "    return (history.history)"
   ]
  },
  {
   "cell_type": "code",
   "execution_count": 84,
   "metadata": {
    "collapsed": false,
    "scrolled": false
   },
   "outputs": [
    {
     "name": "stdout",
     "output_type": "stream",
     "text": [
      "____________________________________________________________________________________________________\n",
      "Layer (type)                     Output Shape          Param #     Connected to                     \n",
      "====================================================================================================\n",
      "embedding_40 (Embedding)         (None, 500, 64)       320000      embedding_input_40[0][0]         \n",
      "____________________________________________________________________________________________________\n",
      "bidirectional_3 (Bidirectional)  (None, 256)           197632      embedding_40[0][0]               \n",
      "____________________________________________________________________________________________________\n",
      "dropout_63 (Dropout)             (None, 256)           0           bidirectional_3[0][0]            \n",
      "____________________________________________________________________________________________________\n",
      "dense_39 (Dense)                 (None, 1)             257         dropout_63[0][0]                 \n",
      "====================================================================================================\n",
      "Total params: 517889\n",
      "____________________________________________________________________________________________________\n",
      "None\n",
      "Train on 25000 samples, validate on 25000 samples\n",
      "Epoch 1/3\n",
      "25000/25000 [==============================] - 308s - loss: 0.4665 - acc: 0.7741 - val_loss: 0.4450 - val_acc: 0.7979\n",
      "Epoch 2/3\n",
      "25000/25000 [==============================] - 310s - loss: 0.3265 - acc: 0.8667 - val_loss: 0.3449 - val_acc: 0.8533\n",
      "Epoch 3/3\n",
      "25000/25000 [==============================] - 311s - loss: 0.2667 - acc: 0.8959 - val_loss: 0.3250 - val_acc: 0.8712\n",
      "____________________________________________________________________________________________________\n",
      "Layer (type)                     Output Shape          Param #     Connected to                     \n",
      "====================================================================================================\n",
      "embedding_41 (Embedding)         (None, 500, 128)      640000      embedding_input_41[0][0]         \n",
      "____________________________________________________________________________________________________\n",
      "bidirectional_4 (Bidirectional)  (None, 256)           263168      embedding_41[0][0]               \n",
      "____________________________________________________________________________________________________\n",
      "dropout_64 (Dropout)             (None, 256)           0           bidirectional_4[0][0]            \n",
      "____________________________________________________________________________________________________\n",
      "dense_40 (Dense)                 (None, 1)             257         dropout_64[0][0]                 \n",
      "====================================================================================================\n",
      "Total params: 903425\n",
      "____________________________________________________________________________________________________\n",
      "None\n",
      "Train on 25000 samples, validate on 25000 samples\n",
      "Epoch 1/3\n",
      "25000/25000 [==============================] - 314s - loss: 0.4944 - acc: 0.7605 - val_loss: 0.3982 - val_acc: 0.8323\n",
      "Epoch 2/3\n",
      "25000/25000 [==============================] - 310s - loss: 0.4092 - acc: 0.8170 - val_loss: 0.4898 - val_acc: 0.7606\n",
      "Epoch 3/3\n",
      "25000/25000 [==============================] - 308s - loss: 0.3245 - acc: 0.8661 - val_loss: 0.4223 - val_acc: 0.8214\n",
      "____________________________________________________________________________________________________\n",
      "Layer (type)                     Output Shape          Param #     Connected to                     \n",
      "====================================================================================================\n",
      "embedding_42 (Embedding)         (None, 500, 64)       320000      embedding_input_42[0][0]         \n",
      "____________________________________________________________________________________________________\n",
      "bidirectional_5 (Bidirectional)  (None, 512)           657408      embedding_42[0][0]               \n",
      "____________________________________________________________________________________________________\n",
      "dropout_65 (Dropout)             (None, 512)           0           bidirectional_5[0][0]            \n",
      "____________________________________________________________________________________________________\n",
      "dense_41 (Dense)                 (None, 1)             513         dropout_65[0][0]                 \n",
      "====================================================================================================\n",
      "Total params: 977921\n",
      "____________________________________________________________________________________________________\n",
      "None\n",
      "Train on 25000 samples, validate on 25000 samples\n",
      "Epoch 1/3\n",
      "25000/25000 [==============================] - 426s - loss: 0.6577 - acc: 0.5976 - val_loss: 0.6820 - val_acc: 0.5857\n",
      "Epoch 2/3\n",
      "16448/25000 [==================>...........] - ETA: 112s - loss: 0.4359 - acc: 0.7957"
     ]
    },
    {
     "ename": "KeyboardInterrupt",
     "evalue": "",
     "output_type": "error",
     "traceback": [
      "\u001b[1;31m---------------------------------------------------------------------------\u001b[0m",
      "\u001b[1;31mKeyboardInterrupt\u001b[0m                         Traceback (most recent call last)",
      "\u001b[1;32m<ipython-input-84-821e773099b1>\u001b[0m in \u001b[0;36m<module>\u001b[1;34m()\u001b[0m\n\u001b[0;32m      9\u001b[0m             \u001b[0mmodel_hist\u001b[0m\u001b[1;33m.\u001b[0m\u001b[0mappend\u001b[0m\u001b[1;33m(\u001b[0m\u001b[1;33m[\u001b[0m\u001b[0mcells\u001b[0m\u001b[1;33m,\u001b[0m \u001b[0membedd\u001b[0m\u001b[1;33m,\u001b[0m \u001b[0mdrops\u001b[0m\u001b[1;33m]\u001b[0m\u001b[1;33m)\u001b[0m\u001b[1;33m\u001b[0m\u001b[0m\n\u001b[0;32m     10\u001b[0m \u001b[1;33m\u001b[0m\u001b[0m\n\u001b[1;32m---> 11\u001b[1;33m             \u001b[0macc_history\u001b[0m\u001b[1;33m[\u001b[0m\u001b[0mlen\u001b[0m\u001b[1;33m(\u001b[0m\u001b[0mmodel_hist\u001b[0m\u001b[1;33m)\u001b[0m\u001b[1;33m-\u001b[0m\u001b[1;36m1\u001b[0m\u001b[1;33m]\u001b[0m\u001b[1;33m=\u001b[0m\u001b[0mbidirectional\u001b[0m\u001b[1;33m(\u001b[0m\u001b[0mcells\u001b[0m\u001b[1;33m,\u001b[0m \u001b[0membedd\u001b[0m\u001b[1;33m,\u001b[0m \u001b[0mdrops\u001b[0m\u001b[1;33m)\u001b[0m\u001b[1;33m\u001b[0m\u001b[0m\n\u001b[0m\u001b[0;32m     12\u001b[0m \u001b[1;33m\u001b[0m\u001b[0m\n",
      "\u001b[1;32m<ipython-input-83-0601fc04b8cc>\u001b[0m in \u001b[0;36mbidirectional\u001b[1;34m(cell_size, embedding, drop)\u001b[0m\n\u001b[0;32m      7\u001b[0m     \u001b[0mmodel_bi\u001b[0m\u001b[1;33m.\u001b[0m\u001b[0mcompile\u001b[0m\u001b[1;33m(\u001b[0m\u001b[0mloss\u001b[0m\u001b[1;33m=\u001b[0m\u001b[1;34m'binary_crossentropy'\u001b[0m\u001b[1;33m,\u001b[0m \u001b[0moptimizer\u001b[0m\u001b[1;33m=\u001b[0m\u001b[1;34m'adam'\u001b[0m\u001b[1;33m,\u001b[0m \u001b[0mmetrics\u001b[0m\u001b[1;33m=\u001b[0m\u001b[1;33m[\u001b[0m\u001b[1;34m'accuracy'\u001b[0m\u001b[1;33m]\u001b[0m\u001b[1;33m)\u001b[0m\u001b[1;33m\u001b[0m\u001b[0m\n\u001b[0;32m      8\u001b[0m     \u001b[1;32mprint\u001b[0m\u001b[1;33m(\u001b[0m\u001b[0mmodel_bi\u001b[0m\u001b[1;33m.\u001b[0m\u001b[0msummary\u001b[0m\u001b[1;33m(\u001b[0m\u001b[1;33m)\u001b[0m\u001b[1;33m)\u001b[0m\u001b[1;33m\u001b[0m\u001b[0m\n\u001b[1;32m----> 9\u001b[1;33m     \u001b[0mhistory\u001b[0m\u001b[1;33m=\u001b[0m\u001b[0mmodel_bi\u001b[0m\u001b[1;33m.\u001b[0m\u001b[0mfit\u001b[0m\u001b[1;33m(\u001b[0m\u001b[0mX_train\u001b[0m\u001b[1;33m,\u001b[0m \u001b[0my_train\u001b[0m\u001b[1;33m,\u001b[0m \u001b[0mverbose\u001b[0m \u001b[1;33m=\u001b[0m \u001b[1;36m1\u001b[0m\u001b[1;33m,\u001b[0m\u001b[0mvalidation_data\u001b[0m\u001b[1;33m=\u001b[0m\u001b[1;33m(\u001b[0m\u001b[0mX_test\u001b[0m\u001b[1;33m,\u001b[0m \u001b[0my_test\u001b[0m\u001b[1;33m)\u001b[0m\u001b[1;33m,\u001b[0m \u001b[0mnb_epoch\u001b[0m\u001b[1;33m=\u001b[0m\u001b[1;36m3\u001b[0m\u001b[1;33m,\u001b[0m \u001b[0mbatch_size\u001b[0m\u001b[1;33m=\u001b[0m\u001b[1;36m64\u001b[0m\u001b[1;33m)\u001b[0m\u001b[1;33m\u001b[0m\u001b[0m\n\u001b[0m\u001b[0;32m     10\u001b[0m     \u001b[1;32mreturn\u001b[0m \u001b[1;33m(\u001b[0m\u001b[0mhistory\u001b[0m\u001b[1;33m.\u001b[0m\u001b[0mhistory\u001b[0m\u001b[1;33m)\u001b[0m\u001b[1;33m\u001b[0m\u001b[0m\n",
      "\u001b[1;32m/research/deeplearnEDU/mooc_v2/data/home/surendran/research/deeplearnEDU/mooc_v2/data/lib/python2.7/site-packages/keras/models.pyc\u001b[0m in \u001b[0;36mfit\u001b[1;34m(self, x, y, batch_size, nb_epoch, verbose, callbacks, validation_split, validation_data, shuffle, class_weight, sample_weight, **kwargs)\u001b[0m\n\u001b[0;32m    650\u001b[0m                               \u001b[0mshuffle\u001b[0m\u001b[1;33m=\u001b[0m\u001b[0mshuffle\u001b[0m\u001b[1;33m,\u001b[0m\u001b[1;33m\u001b[0m\u001b[0m\n\u001b[0;32m    651\u001b[0m                               \u001b[0mclass_weight\u001b[0m\u001b[1;33m=\u001b[0m\u001b[0mclass_weight\u001b[0m\u001b[1;33m,\u001b[0m\u001b[1;33m\u001b[0m\u001b[0m\n\u001b[1;32m--> 652\u001b[1;33m                               sample_weight=sample_weight)\n\u001b[0m\u001b[0;32m    653\u001b[0m \u001b[1;33m\u001b[0m\u001b[0m\n\u001b[0;32m    654\u001b[0m     def evaluate(self, x, y, batch_size=32, verbose=1,\n",
      "\u001b[1;32m/research/deeplearnEDU/mooc_v2/data/home/surendran/research/deeplearnEDU/mooc_v2/data/lib/python2.7/site-packages/keras/engine/training.pyc\u001b[0m in \u001b[0;36mfit\u001b[1;34m(self, x, y, batch_size, nb_epoch, verbose, callbacks, validation_split, validation_data, shuffle, class_weight, sample_weight, initial_epoch)\u001b[0m\n\u001b[0;32m   1109\u001b[0m                               \u001b[0mval_f\u001b[0m\u001b[1;33m=\u001b[0m\u001b[0mval_f\u001b[0m\u001b[1;33m,\u001b[0m \u001b[0mval_ins\u001b[0m\u001b[1;33m=\u001b[0m\u001b[0mval_ins\u001b[0m\u001b[1;33m,\u001b[0m \u001b[0mshuffle\u001b[0m\u001b[1;33m=\u001b[0m\u001b[0mshuffle\u001b[0m\u001b[1;33m,\u001b[0m\u001b[1;33m\u001b[0m\u001b[0m\n\u001b[0;32m   1110\u001b[0m                               \u001b[0mcallback_metrics\u001b[0m\u001b[1;33m=\u001b[0m\u001b[0mcallback_metrics\u001b[0m\u001b[1;33m,\u001b[0m\u001b[1;33m\u001b[0m\u001b[0m\n\u001b[1;32m-> 1111\u001b[1;33m                               initial_epoch=initial_epoch)\n\u001b[0m\u001b[0;32m   1112\u001b[0m \u001b[1;33m\u001b[0m\u001b[0m\n\u001b[0;32m   1113\u001b[0m     \u001b[1;32mdef\u001b[0m \u001b[0mevaluate\u001b[0m\u001b[1;33m(\u001b[0m\u001b[0mself\u001b[0m\u001b[1;33m,\u001b[0m \u001b[0mx\u001b[0m\u001b[1;33m,\u001b[0m \u001b[0my\u001b[0m\u001b[1;33m,\u001b[0m \u001b[0mbatch_size\u001b[0m\u001b[1;33m=\u001b[0m\u001b[1;36m32\u001b[0m\u001b[1;33m,\u001b[0m \u001b[0mverbose\u001b[0m\u001b[1;33m=\u001b[0m\u001b[1;36m1\u001b[0m\u001b[1;33m,\u001b[0m \u001b[0msample_weight\u001b[0m\u001b[1;33m=\u001b[0m\u001b[0mNone\u001b[0m\u001b[1;33m)\u001b[0m\u001b[1;33m:\u001b[0m\u001b[1;33m\u001b[0m\u001b[0m\n",
      "\u001b[1;32m/research/deeplearnEDU/mooc_v2/data/home/surendran/research/deeplearnEDU/mooc_v2/data/lib/python2.7/site-packages/keras/engine/training.pyc\u001b[0m in \u001b[0;36m_fit_loop\u001b[1;34m(self, f, ins, out_labels, batch_size, nb_epoch, verbose, callbacks, val_f, val_ins, shuffle, callback_metrics, initial_epoch)\u001b[0m\n\u001b[0;32m    824\u001b[0m                 \u001b[0mbatch_logs\u001b[0m\u001b[1;33m[\u001b[0m\u001b[1;34m'size'\u001b[0m\u001b[1;33m]\u001b[0m \u001b[1;33m=\u001b[0m \u001b[0mlen\u001b[0m\u001b[1;33m(\u001b[0m\u001b[0mbatch_ids\u001b[0m\u001b[1;33m)\u001b[0m\u001b[1;33m\u001b[0m\u001b[0m\n\u001b[0;32m    825\u001b[0m                 \u001b[0mcallbacks\u001b[0m\u001b[1;33m.\u001b[0m\u001b[0mon_batch_begin\u001b[0m\u001b[1;33m(\u001b[0m\u001b[0mbatch_index\u001b[0m\u001b[1;33m,\u001b[0m \u001b[0mbatch_logs\u001b[0m\u001b[1;33m)\u001b[0m\u001b[1;33m\u001b[0m\u001b[0m\n\u001b[1;32m--> 826\u001b[1;33m                 \u001b[0mouts\u001b[0m \u001b[1;33m=\u001b[0m \u001b[0mf\u001b[0m\u001b[1;33m(\u001b[0m\u001b[0mins_batch\u001b[0m\u001b[1;33m)\u001b[0m\u001b[1;33m\u001b[0m\u001b[0m\n\u001b[0m\u001b[0;32m    827\u001b[0m                 \u001b[1;32mif\u001b[0m \u001b[0mtype\u001b[0m\u001b[1;33m(\u001b[0m\u001b[0mouts\u001b[0m\u001b[1;33m)\u001b[0m \u001b[1;33m!=\u001b[0m \u001b[0mlist\u001b[0m\u001b[1;33m:\u001b[0m\u001b[1;33m\u001b[0m\u001b[0m\n\u001b[0;32m    828\u001b[0m                     \u001b[0mouts\u001b[0m \u001b[1;33m=\u001b[0m \u001b[1;33m[\u001b[0m\u001b[0mouts\u001b[0m\u001b[1;33m]\u001b[0m\u001b[1;33m\u001b[0m\u001b[0m\n",
      "\u001b[1;32m/research/deeplearnEDU/mooc_v2/data/home/surendran/research/deeplearnEDU/mooc_v2/data/lib/python2.7/site-packages/keras/backend/theano_backend.pyc\u001b[0m in \u001b[0;36m__call__\u001b[1;34m(self, inputs)\u001b[0m\n\u001b[0;32m    809\u001b[0m     \u001b[1;32mdef\u001b[0m \u001b[0m__call__\u001b[0m\u001b[1;33m(\u001b[0m\u001b[0mself\u001b[0m\u001b[1;33m,\u001b[0m \u001b[0minputs\u001b[0m\u001b[1;33m)\u001b[0m\u001b[1;33m:\u001b[0m\u001b[1;33m\u001b[0m\u001b[0m\n\u001b[0;32m    810\u001b[0m         \u001b[1;32massert\u001b[0m \u001b[0mtype\u001b[0m\u001b[1;33m(\u001b[0m\u001b[0minputs\u001b[0m\u001b[1;33m)\u001b[0m \u001b[1;32min\u001b[0m \u001b[1;33m{\u001b[0m\u001b[0mlist\u001b[0m\u001b[1;33m,\u001b[0m \u001b[0mtuple\u001b[0m\u001b[1;33m}\u001b[0m\u001b[1;33m\u001b[0m\u001b[0m\n\u001b[1;32m--> 811\u001b[1;33m         \u001b[1;32mreturn\u001b[0m \u001b[0mself\u001b[0m\u001b[1;33m.\u001b[0m\u001b[0mfunction\u001b[0m\u001b[1;33m(\u001b[0m\u001b[1;33m*\u001b[0m\u001b[0minputs\u001b[0m\u001b[1;33m)\u001b[0m\u001b[1;33m\u001b[0m\u001b[0m\n\u001b[0m\u001b[0;32m    812\u001b[0m \u001b[1;33m\u001b[0m\u001b[0m\n\u001b[0;32m    813\u001b[0m \u001b[1;33m\u001b[0m\u001b[0m\n",
      "\u001b[1;32m/research/deeplearnEDU/mooc_v2/data/home/surendran/research/deeplearnEDU/mooc_v2/data/lib/python2.7/site-packages/theano/compile/function_module.pyc\u001b[0m in \u001b[0;36m__call__\u001b[1;34m(self, *args, **kwargs)\u001b[0m\n\u001b[0;32m    857\u001b[0m         \u001b[0mt0_fn\u001b[0m \u001b[1;33m=\u001b[0m \u001b[0mtime\u001b[0m\u001b[1;33m.\u001b[0m\u001b[0mtime\u001b[0m\u001b[1;33m(\u001b[0m\u001b[1;33m)\u001b[0m\u001b[1;33m\u001b[0m\u001b[0m\n\u001b[0;32m    858\u001b[0m         \u001b[1;32mtry\u001b[0m\u001b[1;33m:\u001b[0m\u001b[1;33m\u001b[0m\u001b[0m\n\u001b[1;32m--> 859\u001b[1;33m             \u001b[0moutputs\u001b[0m \u001b[1;33m=\u001b[0m \u001b[0mself\u001b[0m\u001b[1;33m.\u001b[0m\u001b[0mfn\u001b[0m\u001b[1;33m(\u001b[0m\u001b[1;33m)\u001b[0m\u001b[1;33m\u001b[0m\u001b[0m\n\u001b[0m\u001b[0;32m    860\u001b[0m         \u001b[1;32mexcept\u001b[0m \u001b[0mException\u001b[0m\u001b[1;33m:\u001b[0m\u001b[1;33m\u001b[0m\u001b[0m\n\u001b[0;32m    861\u001b[0m             \u001b[1;32mif\u001b[0m \u001b[0mhasattr\u001b[0m\u001b[1;33m(\u001b[0m\u001b[0mself\u001b[0m\u001b[1;33m.\u001b[0m\u001b[0mfn\u001b[0m\u001b[1;33m,\u001b[0m \u001b[1;34m'position_of_error'\u001b[0m\u001b[1;33m)\u001b[0m\u001b[1;33m:\u001b[0m\u001b[1;33m\u001b[0m\u001b[0m\n",
      "\u001b[1;32m/research/deeplearnEDU/mooc_v2/data/home/surendran/research/deeplearnEDU/mooc_v2/data/lib/python2.7/site-packages/theano/scan_module/scan_op.pyc\u001b[0m in \u001b[0;36mrval\u001b[1;34m(p, i, o, n, allow_gc)\u001b[0m\n\u001b[0;32m    949\u001b[0m         def rval(p=p, i=node_input_storage, o=node_output_storage, n=node,\n\u001b[0;32m    950\u001b[0m                  allow_gc=allow_gc):\n\u001b[1;32m--> 951\u001b[1;33m             \u001b[0mr\u001b[0m \u001b[1;33m=\u001b[0m \u001b[0mp\u001b[0m\u001b[1;33m(\u001b[0m\u001b[0mn\u001b[0m\u001b[1;33m,\u001b[0m \u001b[1;33m[\u001b[0m\u001b[0mx\u001b[0m\u001b[1;33m[\u001b[0m\u001b[1;36m0\u001b[0m\u001b[1;33m]\u001b[0m \u001b[1;32mfor\u001b[0m \u001b[0mx\u001b[0m \u001b[1;32min\u001b[0m \u001b[0mi\u001b[0m\u001b[1;33m]\u001b[0m\u001b[1;33m,\u001b[0m \u001b[0mo\u001b[0m\u001b[1;33m)\u001b[0m\u001b[1;33m\u001b[0m\u001b[0m\n\u001b[0m\u001b[0;32m    952\u001b[0m             \u001b[1;32mfor\u001b[0m \u001b[0mo\u001b[0m \u001b[1;32min\u001b[0m \u001b[0mnode\u001b[0m\u001b[1;33m.\u001b[0m\u001b[0moutputs\u001b[0m\u001b[1;33m:\u001b[0m\u001b[1;33m\u001b[0m\u001b[0m\n\u001b[0;32m    953\u001b[0m                 \u001b[0mcompute_map\u001b[0m\u001b[1;33m[\u001b[0m\u001b[0mo\u001b[0m\u001b[1;33m]\u001b[0m\u001b[1;33m[\u001b[0m\u001b[1;36m0\u001b[0m\u001b[1;33m]\u001b[0m \u001b[1;33m=\u001b[0m \u001b[0mTrue\u001b[0m\u001b[1;33m\u001b[0m\u001b[0m\n",
      "\u001b[1;32m/research/deeplearnEDU/mooc_v2/data/home/surendran/research/deeplearnEDU/mooc_v2/data/lib/python2.7/site-packages/theano/scan_module/scan_op.pyc\u001b[0m in \u001b[0;36m<lambda>\u001b[1;34m(node, args, outs)\u001b[0m\n\u001b[0;32m    938\u001b[0m                         \u001b[0margs\u001b[0m\u001b[1;33m,\u001b[0m\u001b[1;33m\u001b[0m\u001b[0m\n\u001b[0;32m    939\u001b[0m                         \u001b[0mouts\u001b[0m\u001b[1;33m,\u001b[0m\u001b[1;33m\u001b[0m\u001b[0m\n\u001b[1;32m--> 940\u001b[1;33m                         self, node)\n\u001b[0m\u001b[0;32m    941\u001b[0m         \u001b[1;32mexcept\u001b[0m \u001b[1;33m(\u001b[0m\u001b[0mImportError\u001b[0m\u001b[1;33m,\u001b[0m \u001b[0mtheano\u001b[0m\u001b[1;33m.\u001b[0m\u001b[0mgof\u001b[0m\u001b[1;33m.\u001b[0m\u001b[0mcmodule\u001b[0m\u001b[1;33m.\u001b[0m\u001b[0mMissingGXX\u001b[0m\u001b[1;33m)\u001b[0m\u001b[1;33m:\u001b[0m\u001b[1;33m\u001b[0m\u001b[0m\n\u001b[0;32m    942\u001b[0m             \u001b[0mp\u001b[0m \u001b[1;33m=\u001b[0m \u001b[0mself\u001b[0m\u001b[1;33m.\u001b[0m\u001b[0mexecute\u001b[0m\u001b[1;33m\u001b[0m\u001b[0m\n",
      "\u001b[1;31mKeyboardInterrupt\u001b[0m: "
     ]
    }
   ],
   "source": [
    "LSTM_size=[128, 256]\n",
    "embedding_vec=[64, 128]\n",
    "drop=[ 0.5]\n",
    "acc_history={}\n",
    "model_hist=[]\n",
    "for cells in LSTM_size:\n",
    "    for embedd in embedding_vec:\n",
    "        for drops in drop:\n",
    "            model_hist.append([cells, embedd, drops])\n",
    "                \n",
    "            acc_history[len(model_hist)-1]=bidirectional(cells, embedd, drops)\n",
    "\n"
   ]
  },
  {
   "cell_type": "code",
   "execution_count": 87,
   "metadata": {
    "collapsed": false
   },
   "outputs": [
    {
     "data": {
      "image/png": "[encoded data removed]",
      "text/plain": [
       "<matplotlib.figure.Figure at 0x7fd65872d710>"
      ]
     },
     "metadata": {},
     "output_type": "display_data"
    }
   ],
   "source": [
    "\n",
    "for i in range(2):\n",
    "    plt.plot(acc_history[i][\"val_acc\"])\n",
    "plt.title('model accuracy')\n",
    "plt.ylabel('accuracy')\n",
    "plt.xlabel('epoch')\n",
    "legend=[1,2,3,4,5,6,7,8,9,10,11,1]\n",
    "plt.legend(legend, loc='lower left')\n",
    "plt.show()"
   ]
  },
  {
   "cell_type": "code",
   "execution_count": 88,
   "metadata": {
    "collapsed": false
   },
   "outputs": [
    {
     "name": "stdout",
     "output_type": "stream",
     "text": [
      "[2, 128, 64, 0.2]\n"
     ]
    }
   ],
   "source": [
    "# Best Model :\n",
    "\n",
    "#Uni-Directional LSTM\n",
    "best_model_f=None\n",
    "max_val=0\n",
    "for i in range(len(model_hist_f)):\n",
    "    max_val_acc=np.argmax(acc_history_f[i][\"val_acc\"])\n",
    "    if max_val<=acc_history_f[i][\"val_acc\"][max_val_acc] :\n",
    "        max_val=acc_history_f[i][\"val_acc\"][max_val_acc]\n",
    "        best_model_f=model_hist_f[i]\n",
    "    else:\n",
    "        pass\n",
    "\n",
    "    \n",
    "print (best_model)"
   ]
  },
  {
   "cell_type": "code",
   "execution_count": 90,
   "metadata": {
    "collapsed": false
   },
   "outputs": [
    {
     "name": "stdout",
     "output_type": "stream",
     "text": [
      "[128, 64, 0.5]\n"
     ]
    }
   ],
   "source": [
    "#Uni-Directional LSTM\n",
    "best_model_bi=None\n",
    "max_val=0\n",
    "for i in range(2):\n",
    "    max_val_acc=np.argmax(acc_history[i][\"val_acc\"])\n",
    "    if max_val<=acc_history[i][\"val_acc\"][max_val_acc] :\n",
    "        max_val=acc_history[i][\"val_acc\"][max_val_acc]\n",
    "        best_model=model_hist[i]\n",
    "    else:\n",
    "        pass\n",
    "\n",
    "    \n",
    "print (best_model)"
   ]
  },
  {
   "cell_type": "code",
   "execution_count": 95,
   "metadata": {
    "collapsed": false,
    "scrolled": false
   },
   "outputs": [
    {
     "name": "stdout",
     "output_type": "stream",
     "text": [
      "____________________________________________________________________________________________________\n",
      "Layer (type)                     Output Shape          Param #     Connected to                     \n",
      "====================================================================================================\n",
      "embedding_47 (Embedding)         (None, 500, 64)       320000      embedding_input_47[0][0]         \n",
      "____________________________________________________________________________________________________\n",
      "lstm_75 (LSTM)                   (None, 500, 128)      98816       embedding_47[0][0]               \n",
      "____________________________________________________________________________________________________\n",
      "dropout_74 (Dropout)             (None, 500, 128)      0           lstm_75[0][0]                    \n",
      "____________________________________________________________________________________________________\n",
      "lstm_76 (LSTM)                   (None, 128)           131584      dropout_74[0][0]                 \n",
      "____________________________________________________________________________________________________\n",
      "dropout_75 (Dropout)             (None, 128)           0           lstm_76[0][0]                    \n",
      "____________________________________________________________________________________________________\n",
      "dense_46 (Dense)                 (None, 1)             129         dropout_75[0][0]                 \n",
      "====================================================================================================\n",
      "Total params: 550529\n",
      "____________________________________________________________________________________________________\n",
      "None\n",
      "Train on 25000 samples, validate on 25000 samples\n",
      "Epoch 1/2\n",
      "25000/25000 [==============================] - 305s - loss: 0.4241 - acc: 0.8032 - val_loss: 0.3232 - val_acc: 0.8652\n",
      "Epoch 2/2\n",
      "25000/25000 [==============================] - 305s - loss: 0.3363 - acc: 0.8648 - val_loss: 0.3840 - val_acc: 0.8432\n"
     ]
    },
    {
     "ename": "NameError",
     "evalue": "name 'scores' is not defined",
     "output_type": "error",
     "traceback": [
      "\u001b[1;31m---------------------------------------------------------------------------\u001b[0m",
      "\u001b[1;31mNameError\u001b[0m                                 Traceback (most recent call last)",
      "\u001b[1;32m<ipython-input-95-390697eca7e4>\u001b[0m in \u001b[0;36m<module>\u001b[1;34m()\u001b[0m\n\u001b[0;32m     16\u001b[0m \u001b[1;31m# Final evaluation of the model\u001b[0m\u001b[1;33m\u001b[0m\u001b[1;33m\u001b[0m\u001b[0m\n\u001b[0;32m     17\u001b[0m \u001b[0mscores_uni\u001b[0m\u001b[1;33m=\u001b[0m \u001b[0mmodel\u001b[0m\u001b[1;33m.\u001b[0m\u001b[0mevaluate\u001b[0m\u001b[1;33m(\u001b[0m\u001b[0mX_test\u001b[0m\u001b[1;33m,\u001b[0m \u001b[0my_test\u001b[0m\u001b[1;33m,\u001b[0m \u001b[0mverbose\u001b[0m\u001b[1;33m=\u001b[0m\u001b[1;36m0\u001b[0m\u001b[1;33m)\u001b[0m\u001b[1;33m\u001b[0m\u001b[0m\n\u001b[1;32m---> 18\u001b[1;33m \u001b[1;32mprint\u001b[0m\u001b[1;33m(\u001b[0m\u001b[1;34m\"Accuracy - Unidirectional LSTM: %.2f%%\"\u001b[0m \u001b[1;33m%\u001b[0m \u001b[1;33m(\u001b[0m\u001b[0mscores\u001b[0m\u001b[1;33m[\u001b[0m\u001b[1;36m1\u001b[0m\u001b[1;33m]\u001b[0m\u001b[1;33m*\u001b[0m\u001b[1;36m100\u001b[0m\u001b[1;33m)\u001b[0m\u001b[1;33m)\u001b[0m\u001b[1;33m\u001b[0m\u001b[0m\n\u001b[0m",
      "\u001b[1;31mNameError\u001b[0m: name 'scores' is not defined"
     ]
    }
   ],
   "source": [
    "## Running our best model\n",
    "\n",
    "model = Sequential()\n",
    "model.add(Embedding(top_words, 64, input_length=max_review_length))\n",
    "model.add(LSTM(128, return_sequences=True))\n",
    "model.add(Dropout(0.2))\n",
    "model.add(LSTM(128, return_sequences=False))\n",
    "model.add(Dropout(0.2))\n",
    "model.add(Dense(1, activation='sigmoid'))\n",
    "model.compile(loss='binary_crossentropy', optimizer='adam', metrics=['accuracy'])\n",
    "print(model.summary())\n",
    "model.fit(X_train, y_train, verbose = 1,validation_data=(X_test, y_test), nb_epoch=2, batch_size=64)\n",
    "\n",
    "\n",
    "\n",
    "# Final evaluation of the model\n",
    "scores_uni= model.evaluate(X_test, y_test, verbose=0)\n"
   ]
  },
  {
   "cell_type": "code",
   "execution_count": 96,
   "metadata": {
    "collapsed": false
   },
   "outputs": [
    {
     "name": "stdout",
     "output_type": "stream",
     "text": [
      "Accuracy - Unidirectional LSTM: 84.32%\n"
     ]
    }
   ],
   "source": [
    "print(\"Accuracy - Unidirectional LSTM: %.2f%%\" % (scores_uni[1]*100))\n",
    "\n"
   ]
  },
  {
   "cell_type": "code",
   "execution_count": null,
   "metadata": {
    "collapsed": true
   },
   "outputs": [],
   "source": []
  }
 ],
 "metadata": {
  "kernelspec": {
   "display_name": "Python 2",
   "language": "python",
   "name": "python2"
  },
  "language_info": {
   "codemirror_mode": {
    "name": "ipython",
    "version": 2
   },
   "file_extension": ".py",
   "mimetype": "text/x-python",
   "name": "python",
   "nbconvert_exporter": "python",
   "pygments_lexer": "ipython2",
   "version": "2.7.12"
  }
 },
 "nbformat": 4,
 "nbformat_minor": 2
}
